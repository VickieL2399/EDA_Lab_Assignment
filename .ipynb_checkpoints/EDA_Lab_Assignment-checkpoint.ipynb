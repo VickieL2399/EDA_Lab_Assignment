{
 "cells": [
  {
   "cell_type": "markdown",
   "id": "3eaa5726",
   "metadata": {},
   "source": [
    "# 1. Load the Dataset with Pandas"
   ]
  },
  {
   "cell_type": "markdown",
   "id": "6dfe9911",
   "metadata": {},
   "source": [
    "Load ames datafile into Tableu by importing it as a textfile"
   ]
  },
  {
   "cell_type": "markdown",
   "id": "6f21e2b9",
   "metadata": {},
   "source": [
    "We found that there was 81 field and 1460 rows in the dataset"
   ]
  },
  {
   "cell_type": "markdown",
   "id": "c8fbd289",
   "metadata": {},
   "source": [
    "The fields seems to be given appropiate types as well"
   ]
  },
  {
   "cell_type": "markdown",
   "id": "33a77e7d",
   "metadata": {},
   "source": [
    "# 2. Explore Data Distributions"
   ]
  },
  {
   "cell_type": "markdown",
   "id": "b38c9bd2",
   "metadata": {},
   "source": [
    "### Sale Price"
   ]
  },
  {
   "cell_type": "markdown",
   "id": "4b0714ab",
   "metadata": {},
   "source": [
    "I will be producing histograms showing the distributions of `SalePrice`, `TotRmsAbvGrd`, and `OverallCond` on Tableau"
   ]
  },
  {
   "cell_type": "markdown",
   "id": "15b74652",
   "metadata": {},
   "source": [
    "First I will be producing the histogram for `SalePrice`."
   ]
  },
  {
   "cell_type": "markdown",
   "id": "e57e7e80",
   "metadata": {},
   "source": [
    "Mean: 180,921\n",
    "\n",
    "Median: 163,000\n",
    "\n",
    "Standard Deviation: 79,443\n",
    "\n",
    "Average: 202610.140405616"
   ]
  },
  {
   "cell_type": "markdown",
   "id": "56522c48",
   "metadata": {},
   "source": [
    "The graph and the refrence line looks exactly the same of the example given in the Explore_the_Ames_Housing_Dataset_with_Pandas file"
   ]
  },
  {
   "cell_type": "markdown",
   "id": "1b2414f7",
   "metadata": {},
   "source": [
    "It appears that there is a normal distribution. The majority of the houses in the sample are centered around the median price of 163,000 dollars, but the more expensive homes are causing the mean to rise above 180,000 dollars."
   ]
  },
  {
   "cell_type": "markdown",
   "id": "8984c4fb",
   "metadata": {},
   "source": [
    "### Total Rooms Above Grade"
   ]
  },
  {
   "cell_type": "markdown",
   "id": "c5448c28",
   "metadata": {},
   "source": [
    "Now I will be producing the histogram for TotRmAbvGrd\n",
    "\n",
    "Mean:               6.518\n",
    "\n",
    "Median:             6.0\n",
    "\n",
    "Standard Deviation: 1.625\n",
    "\n",
    "Average:            7.583"
   ]
  },
  {
   "cell_type": "markdown",
   "id": "9245058b",
   "metadata": {},
   "source": [
    "The graph looks exactly the same of the example given in the Explore_the_Ames_Housing_Dataset_with_Pandas file. However the only thing that is different is the Vertical Refrence average line"
   ]
  },
  {
   "cell_type": "markdown",
   "id": "cdcee5cd",
   "metadata": {},
   "source": [
    "The distribution of the number of rooms in houses is normal, with a mean and median close to 6 rooms. While there are some houses with twice as many rooms as the average shows."
   ]
  },
  {
   "cell_type": "markdown",
   "id": "2f2a7706",
   "metadata": {},
   "source": [
    "### Overall Condition"
   ]
  },
  {
   "cell_type": "markdown",
   "id": "ddc4c980",
   "metadata": {},
   "source": [
    "Now I will be producing the histogram for OverallCond\n",
    "\n",
    "Mean:               5.575\n",
    "\n",
    "Median:             5.0\n",
    "\n",
    "Standard Deviation: 1.113\n",
    "\n",
    "Average:            5.0      "
   ]
  },
  {
   "cell_type": "markdown",
   "id": "ee15bf49",
   "metadata": {},
   "source": [
    "The graph looks exactly the same of the example given in the Explore_the_Ames_Housing_Dataset_with_Pandas file. However the only thing that is different is the Vertical Refrence average line"
   ]
  },
  {
   "cell_type": "markdown",
   "id": "90e763fe",
   "metadata": {},
   "source": [
    "It seems that most of the houses are 5 which could means that they are in a okay condition. There some houses that are lower than 5 which means they are in poor condition and some that are higher than 5 which mean they are in great condition. "
   ]
  },
  {
   "cell_type": "markdown",
   "id": "4f9d3908",
   "metadata": {},
   "source": [
    "## 3. Explore Differences between Subsets"
   ]
  },
  {
   "cell_type": "markdown",
   "id": "392baf14",
   "metadata": {},
   "source": [
    "Initially, it appears that most of the houses are in above-average condition, with a significant majority in average condition, and only a small minority in below-average condition.\n",
    "\n",
    "It seems that the houses in average condition have a wider range of prices compared to the below-average or above-average houses. \n",
    "\n",
    "In addition, It is not suprising that houses with below-average condition have lower sale prices when comparing them to average condition and  above-average houses. \n",
    "\n",
    "It is shocking that above-average houses does not have higher sale prices but some average houses do have a higher sale prices.\n",
    "\n",
    "The above-average houses seems to be in the price ranges of 52K to 755K. We might need to do more investgation on what type of houses would be considered above-average condition, as it contradicts the assumption that above-average houses are worth higher sale price when it may not be true.\n"
   ]
  },
  {
   "cell_type": "markdown",
   "id": "a0528fa6",
   "metadata": {},
   "source": [
    "## 4. Explore Correlations"
   ]
  },
  {
   "cell_type": "markdown",
   "id": "63b34950",
   "metadata": {},
   "source": [
    "The overall qulaity has the highest correlastion with a 0.7910 compared to Kitchen above ground -0.1359. The correlation between overall quality and sale price is stronger compared to  The correlation between  Kitchen above ground and sale price. The overall qulaity rates the overall material and finish of the house on a scale of 1 to 10. The highest quliaty means better quality and lowest qulity means poor qulaity. The overall qulaity is positively related to the sale pricde of the house. The relationship may not be linear but potentially exponential. It seems that the home with a quality rating of 10 which is considered high qulity can sell for the same price as a home with a rating of 6 which is considered above average.\n",
    "\n",
    "The overall Kitchen above ground has a negative correlation with sale price. After looking at the boxplot it seems that most houses have 1 or 2 kictens above grade. The graph also shows signs of some houses having 0 or 3 kichens above grade. It is very suprising to see that having 0 or 2 or more kitchens are assciuated with lower prices. Home with 2 kitchens were sold with the highest of 190K and lowest 55K comapared to 1 kitchens which were sold for over 200K. \n",
    "\n",
    "There should be some investgation to check the qulity of homes that have two kitchen to determin if they are low-qulity or high qulity homes. It seems like the qulity of the houses is a big factor in determining the sales price. The kitchen above ground may not be a factor to how the qulity of the house change or how the sale price is determined  "
   ]
  },
  {
   "cell_type": "markdown",
   "id": "7d65a6e9",
   "metadata": {},
   "source": [
    "## 5. Engineer and Explore a New Feature"
   ]
  },
  {
   "cell_type": "markdown",
   "id": "33681f37",
   "metadata": {},
   "source": [
    "It seems that newer houses will held a greater value, which would gradually increase as they age. After looking throught the scatter plot, an observation had been made that the variance in value tends to rise after homes suprasses the 100-year mark, It seems there are smaller numbers of overall home sales on these 100-year houses but a good almount of them are at a above average price. Another observation I had been made are that new houses are being sold more than older houses. I also see that newer houses are being sold more for a higher price comapred to older houses. For example, an 11 year old house was sold for 745K while a 136 year old house was sold for 122K. "
   ]
  }
 ],
 "metadata": {
  "kernelspec": {
   "display_name": "Python 3 (ipykernel)",
   "language": "python",
   "name": "python3"
  },
  "language_info": {
   "codemirror_mode": {
    "name": "ipython",
    "version": 3
   },
   "file_extension": ".py",
   "mimetype": "text/x-python",
   "name": "python",
   "nbconvert_exporter": "python",
   "pygments_lexer": "ipython3",
   "version": "3.9.13"
  }
 },
 "nbformat": 4,
 "nbformat_minor": 5
}
